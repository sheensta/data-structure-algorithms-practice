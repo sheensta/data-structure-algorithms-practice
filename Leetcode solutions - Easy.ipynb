{
 "cells": [
  {
   "cell_type": "code",
   "execution_count": null,
   "metadata": {},
   "outputs": [],
   "source": [
    "#Palindrome \n",
    "x=12321\n",
    "strx = str(x)\n",
    "lenx = len(strx)\n",
    "if lenx % 2 == 0:\n",
    "    half_str = int(lenx/2)\n",
    "    str_L = strx[:half_str]\n",
    "    str_R = strx[half_str:]\n",
    "else:\n",
    "    half_str = int(lenx/2+1)\n",
    "    str_L = strx[:half_str-1]\n",
    "    str_R = strx[half_str:]\n",
    "print(str_L==str_R[::-1])"
   ]
  },
  {
   "cell_type": "code",
   "execution_count": null,
   "metadata": {},
   "outputs": [],
   "source": [
    "s = 'MXV'\n",
    "#Convert Roman to Integer\n",
    "rom_val = {'I': 1, 'V': 5, 'X': 10, 'L': 50, 'C': 100, 'D': 500, 'M': 1000}\n",
    "int_val = 0\n",
    "for i in range(len(s)):\n",
    "    if i > 0 and rom_val[s[i]] > rom_val[s[i - 1]]:\n",
    "        int_val += rom_val[s[i]] - 2 * rom_val[s[i - 1]]\n",
    "    else:\n",
    "        int_val += rom_val[s[i]]\n",
    "print(int_val)\n",
    "        "
   ]
  },
  {
   "cell_type": "code",
   "execution_count": null,
   "metadata": {},
   "outputs": [],
   "source": [
    "#longest common prefix\n",
    "def longestCommonPrefix(strs):\n",
    "    prefix = ''\n",
    "    if len(strs) == 0: return(prefix)\n",
    "    else:\n",
    "        for i in range(len(strs[0])):\n",
    "            prefix = prefix + strs[0][i]\n",
    "            check = [x for x in strs if x.startswith(prefix)]\n",
    "            if len(check) != len(strs):\n",
    "                return(prefix[0:i])\n",
    "        return(prefix)"
   ]
  },
  {
   "cell_type": "code",
   "execution_count": 15,
   "metadata": {},
   "outputs": [],
   "source": [
    "#Valid parantheses\n",
    "def isValid(s):\n",
    "    stack = []\n",
    "    mapping = {\")\": \"(\", \"}\": \"{\", \"]\": \"[\"}\n",
    "    for char in s:\n",
    "        if char in mapping:\n",
    "            top_element = stack.pop() if stack else '#'\n",
    "            if mapping[char] != top_element:\n",
    "                return False\n",
    "        else:\n",
    "            stack.append(char)\n",
    "    return not stack"
   ]
  },
  {
   "cell_type": "code",
   "execution_count": 70,
   "metadata": {},
   "outputs": [],
   "source": [
    "# Merge 2 sorted linkedlists\n",
    "class ListNode:\n",
    "     def __init__(self, val=0, next=None):\n",
    "         self.val = val\n",
    "         self.next = next\n",
    "class Solution:\n",
    "    def mergeTwoLists(self, l1: ListNode, l2: ListNode) -> ListNode:\n",
    "        dummy = ListNode(0)  \n",
    "        cur = dummy  \n",
    "        while l1 and l2:  \n",
    "            if l1.val <= l2.val:  \n",
    "                cur.next = l1  \n",
    "                l1 = l1.next  \n",
    "            else:  \n",
    "                cur.next = l2  \n",
    "                l2 = l2.next  \n",
    "            cur = cur.next  \n",
    "        cur.next = l1 or l2  \n",
    "        return dummy.next \n",
    "        "
   ]
  },
  {
   "cell_type": "code",
   "execution_count": 679,
   "metadata": {},
   "outputs": [],
   "source": [
    "#remove duplicates from sorted array\n",
    "def removeDuplicates(nums):\n",
    "    if len(nums) <= 1:\n",
    "        return(nums)\n",
    "    if len(nums) == 2:\n",
    "        if nums[0] == nums[1]:\n",
    "            nums.pop(0)\n",
    "            return(nums)\n",
    "        return(nums)\n",
    "    i = 0\n",
    "    listlength=len(nums)-1\n",
    "    while i < listlength :\n",
    "        currentInt = nums[i]\n",
    "        compareInt = nums[i+1]\n",
    "        if currentInt == compareInt:\n",
    "            nums.pop(i+1)\n",
    "            listlength = len(nums)-1\n",
    "        else:\n",
    "            i += 1\n",
    "    return(nums)\n",
    "\n",
    "def removeDuplicates(nums):\n",
    "    i = 0\n",
    "    while i < len(nums)-1:\n",
    "        if nums[i] == nums[i+1]:\n",
    "            del nums[i]\n",
    "        else:\n",
    "            i += 1\n",
    "    return len(nums)"
   ]
  },
  {
   "cell_type": "code",
   "execution_count": 36,
   "metadata": {},
   "outputs": [],
   "source": [
    "#remove all instances of an element\n",
    "def removeElement(nums, val):\n",
    "    i = 0\n",
    "    while i < len(nums):\n",
    "        if nums[i]==val:\n",
    "            nums.pop(i)\n",
    "        else:\n",
    "            i=i+1\n",
    "    return(nums)\n",
    "\n",
    "#given solution\n",
    "def removeElement(nums, val):\n",
    "    i = 0;\n",
    "    for j in range(len(nums)):\n",
    "        if nums[j] != val :\n",
    "            nums[i] = nums[j]\n",
    "            i=i+1\n",
    "    return i;"
   ]
  },
  {
   "cell_type": "code",
   "execution_count": 15,
   "metadata": {},
   "outputs": [],
   "source": [
    "#Implement strSTR(): return the index of the first occurrence of needle in haystack, or -1 if needle is not part of haystack\n",
    "def strStr(haystack, needle):\n",
    "    indexNeedle = 0\n",
    "    indexHaystack = 0\n",
    "    needle_len = len(needle)\n",
    "    haystack_len = len(haystack)\n",
    "    if needle_len == 0:\n",
    "        return 0\n",
    "    while indexHaystack<haystack_len and haystack_len-indexHaystack+1 >= needle_len:\n",
    "        if haystack[indexHaystack] == needle[indexNeedle]:\n",
    "            temp = indexHaystack\n",
    "            while indexNeedle<needle_len and indexHaystack<haystack_len and needle[indexNeedle]==haystack[indexHaystack]:\n",
    "                indexHaystack+=1\n",
    "                indexNeedle+=1\n",
    "            if indexNeedle == needle_len:\n",
    "                return temp\n",
    "            indexHaystack= temp+1\n",
    "            indexNeedle = 0\n",
    "        else:\n",
    "            indexHaystack+=1\n",
    "    return -1"
   ]
  },
  {
   "cell_type": "code",
   "execution_count": 45,
   "metadata": {},
   "outputs": [],
   "source": [
    "#Given a sorted array of distinct integers and a target value, return the index if the target is found. \n",
    "#If not, return the index where it would be if it were inserted in order.\n",
    "\n",
    "def searchInsert(nums, target) -> int:\n",
    "    i = 0\n",
    "    while target > nums[i]:\n",
    "        if i == len(nums)-1:\n",
    "            return i+1\n",
    "        i = i+1        \n",
    "    return i"
   ]
  },
  {
   "cell_type": "code",
   "execution_count": 52,
   "metadata": {},
   "outputs": [],
   "source": [
    "#Given an integer array nums, find the contiguous subarray \n",
    "#(containing at least one number) which has the largest sum and return its sum.\n",
    "\n",
    "def maxSubarray(nums) -> int:\n",
    "    max_so_far =a[0]\n",
    "    curr_max = a[0]\n",
    "    for i in range(1,size):\n",
    "        curr_max = max(a[i], curr_max + a[i])\n",
    "        max_so_far = max(max_so_far,curr_max)\n",
    "    return max_so_far"
   ]
  },
  {
   "cell_type": "code",
   "execution_count": 66,
   "metadata": {},
   "outputs": [],
   "source": [
    "#Given a string s consists of some words separated by spaces, return the length of the last word in the string. \n",
    "#If the last word does not exist, return 0.\n",
    "\n",
    "def lengthOfLastWord(s) -> int:\n",
    "    split = s.split()\n",
    "    n_words = len(split)\n",
    "    if n_words == 0: return 0\n",
    "    return len(split[n_words-1])"
   ]
  },
  {
   "cell_type": "code",
   "execution_count": 96,
   "metadata": {},
   "outputs": [],
   "source": [
    "#Given 2 binary strings a and b, return their sum as a binary string\n",
    "\n",
    "def addBinary(a, b):\n",
    "    max_len = max(len(a), len(b)) \n",
    "    result = '' \n",
    "    carry = 0\n",
    "    for i in range(max_len - 1, -1, -1): \n",
    "        r = carry \n",
    "        r += 1 if a[i] == '1' else 0\n",
    "        r += 1 if b[i] == '1' else 0\n",
    "        result = ('1' if r % 2 == 1 else '0') + result \n",
    "        carry = 0 if r < 2 else 1     # Compute the carry. \n",
    "    if carry !=0 : result = '1' + result \n",
    "    return result.zfill(max_len)"
   ]
  },
  {
   "cell_type": "code",
   "execution_count": 91,
   "metadata": {},
   "outputs": [],
   "source": [
    "#Given a non-negative integer x, compute and return the square root of x.\n",
    "#Since the return type is an integer, the decimal digits are truncated, and only the integer part of the result is returned.\n",
    "\n",
    "def mySqrt(x):\n",
    "    return(int(x**.5))"
   ]
  },
  {
   "cell_type": "code",
   "execution_count": null,
   "metadata": {},
   "outputs": [],
   "source": [
    "#You are climbing a staircase. It takes n steps to reach the top.\n",
    "#Each time you can either climb 1 or 2 steps. In how many distinct ways can you climb to the top?\n",
    "\n",
    "def climbStairs(n):\n",
    "    n_ways = 0\n",
    "    \n",
    "    \n",
    "    return(climbStairs)"
   ]
  },
  {
   "cell_type": "code",
   "execution_count": null,
   "metadata": {},
   "outputs": [],
   "source": []
  }
 ],
 "metadata": {
  "kernelspec": {
   "display_name": "Python 3",
   "language": "python",
   "name": "python3"
  },
  "language_info": {
   "codemirror_mode": {
    "name": "ipython",
    "version": 3
   },
   "file_extension": ".py",
   "mimetype": "text/x-python",
   "name": "python",
   "nbconvert_exporter": "python",
   "pygments_lexer": "ipython3",
   "version": "3.7.6"
  }
 },
 "nbformat": 4,
 "nbformat_minor": 4
}
